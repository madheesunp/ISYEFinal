{
 "cells": [
  {
   "cell_type": "code",
   "execution_count": null,
   "id": "9396d0b9-543e-4873-9c52-ee5d85774faf",
   "metadata": {},
   "outputs": [],
   "source": []
  }
 ],
 "metadata": {
  "kernelspec": {
   "display_name": "",
   "name": ""
  },
  "language_info": {
   "name": ""
  }
 },
 "nbformat": 4,
 "nbformat_minor": 5
}
